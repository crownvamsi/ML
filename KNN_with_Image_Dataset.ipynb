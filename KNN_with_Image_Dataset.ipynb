{
  "nbformat": 4,
  "nbformat_minor": 0,
  "metadata": {
    "colab": {
      "name": "KNN with Image Dataset",
      "provenance": [],
      "authorship_tag": "ABX9TyPhZ9nTm5VjQBorG2azUKcU",
      "include_colab_link": true
    },
    "kernelspec": {
      "name": "python3",
      "display_name": "Python 3"
    }
  },
  "cells": [
    {
      "cell_type": "markdown",
      "metadata": {
        "id": "view-in-github",
        "colab_type": "text"
      },
      "source": [
        "<a href=\"https://colab.research.google.com/github/crownvamsi/ML/blob/main/KNN_with_Image_Dataset.ipynb\" target=\"_parent\"><img src=\"https://colab.research.google.com/assets/colab-badge.svg\" alt=\"Open In Colab\"/></a>"
      ]
    },
    {
      "cell_type": "code",
      "metadata": {
        "id": "u-YxlG9T9hfC"
      },
      "source": [
        "from sklearn import datasets\n",
        "from sklearn.neighbors import KNeighborsClassifier\n",
        "from sklearn.model_selection import train_test_split\n",
        "\n",
        "import numpy as np\n",
        "import pandas as pd\n",
        "import matplotlib.pyplot as plt\n",
        "plt.style.use('ggplot')\n",
        "\n"
      ],
      "execution_count": 34,
      "outputs": []
    },
    {
      "cell_type": "code",
      "metadata": {
        "id": "-hOvz0Qb91n7",
        "outputId": "d26438d6-af04-4c1a-8f48-1c58c5408528",
        "colab": {
          "base_uri": "https://localhost:8080/",
          "height": 34
        }
      },
      "source": [
        "digits = datasets.load_digits()\n",
        "digits.keys()"
      ],
      "execution_count": 35,
      "outputs": [
        {
          "output_type": "execute_result",
          "data": {
            "text/plain": [
              "dict_keys(['data', 'target', 'target_names', 'images', 'DESCR'])"
            ]
          },
          "metadata": {
            "tags": []
          },
          "execution_count": 35
        }
      ]
    },
    {
      "cell_type": "code",
      "metadata": {
        "id": "wrQx8u3W99f_",
        "outputId": "16990ba1-64fa-44e9-e33a-4e8ee262ade0",
        "colab": {
          "base_uri": "https://localhost:8080/",
          "height": 34
        }
      },
      "source": [
        "X = digits.data\n",
        "y = digits.target\n",
        "print(y)"
      ],
      "execution_count": 36,
      "outputs": [
        {
          "output_type": "stream",
          "text": [
            "[0 1 2 ... 8 9 8]\n"
          ],
          "name": "stdout"
        }
      ]
    },
    {
      "cell_type": "code",
      "metadata": {
        "id": "cKTDgJVL-AQf"
      },
      "source": [
        "X_train, X_test, y_train, y_test = train_test_split(X,y,test_size=0.3, random_state=42, stratify=y)"
      ],
      "execution_count": 37,
      "outputs": []
    },
    {
      "cell_type": "code",
      "metadata": {
        "id": "gh2z0pPI_hg5"
      },
      "source": [
        "neighbors = np.arange(1,9)\n",
        "train_accuracy = np.empty(len(neighbors))\n",
        "test_accuracy = np.empty(len(neighbors))"
      ],
      "execution_count": 38,
      "outputs": []
    },
    {
      "cell_type": "code",
      "metadata": {
        "id": "o20D3v9p_2C-",
        "outputId": "ffeaf32a-fdec-431d-9640-76d746d3d800",
        "colab": {
          "base_uri": "https://localhost:8080/",
          "height": 282
        }
      },
      "source": [
        "for i,k in enumerate(neighbors):\n",
        "  knn = KNeighborsClassifier(n_neighbors = k)\n",
        "  knn.fit(X_train, y_train)\n",
        "  #fit the accuracy for both train and test\n",
        "  train_accuracy[i] = knn.score(X_train, y_train)\n",
        "  #predict the accury for test data set as well\n",
        "  test_accuracy[i] = knn.score(X_test, y_test)\n",
        "\n",
        "#Plot the accuracy scores for each neighbors data both train and test split\n",
        "\n",
        "plt.plot(neighbors, train_accuracy, label='Training accuracy')\n",
        "plt.plot(neighbors, test_accuracy, label='Testing accuracy')\n"
      ],
      "execution_count": 39,
      "outputs": [
        {
          "output_type": "execute_result",
          "data": {
            "text/plain": [
              "[<matplotlib.lines.Line2D at 0x7f8007f062b0>]"
            ]
          },
          "metadata": {
            "tags": []
          },
          "execution_count": 39
        },
        {
          "output_type": "display_data",
          "data": {
            "image/png": "[encoded data removed]",
            "text/plain": [
              "<Figure size 432x288 with 1 Axes>"
            ]
          },
          "metadata": {
            "tags": []
          }
        }
      ]
    },
    {
      "cell_type": "code",
      "metadata": {
        "id": "7ez5DUSwBagj",
        "outputId": "258c6956-f2bd-460a-9cf4-c668f37412b6",
        "colab": {
          "base_uri": "https://localhost:8080/",
          "height": 136
        }
      },
      "source": [
        "knn= KNeighborsClassifier(n_neighbors=5)\n",
        "knn.fit(X_train, y_train)\n",
        "y_pred = knn.predict(X_test)\n",
        "y1_test = y_test.reshape(len(y_test),1)\n",
        "y1_pred= y_pred.reshape(len(y_pred),1)\n",
        "print(np.concatenate((y1_test,y1_pred),1))"
      ],
      "execution_count": 49,
      "outputs": [
        {
          "output_type": "stream",
          "text": [
            "[[1 1]\n",
            " [3 3]\n",
            " [1 1]\n",
            " ...\n",
            " [6 6]\n",
            " [1 1]\n",
            " [1 1]]\n"
          ],
          "name": "stdout"
        }
      ]
    },
    {
      "cell_type": "code",
      "metadata": {
        "id": "P2vaziJhGGST"
      },
      "source": [
        ""
      ],
      "execution_count": null,
      "outputs": []
    }
  ]
}