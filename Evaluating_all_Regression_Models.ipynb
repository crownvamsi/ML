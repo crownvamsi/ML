{
  "nbformat": 4,
  "nbformat_minor": 0,
  "metadata": {
    "colab": {
      "name": "Evaluating all Regression Models.ipynb",
      "provenance": [],
      "authorship_tag": "ABX9TyOeGrSxaB5ypXPoZuTMpkcU",
      "include_colab_link": true
    },
    "kernelspec": {
      "name": "python3",
      "display_name": "Python 3"
    }
  },
  "cells": [
    {
      "cell_type": "markdown",
      "metadata": {
        "id": "view-in-github",
        "colab_type": "text"
      },
      "source": [
        "<a href=\"https://colab.research.google.com/github/crownvamsi/ML/blob/main/Evaluating_all_Regression_Models.ipynb\" target=\"_parent\"><img src=\"https://colab.research.google.com/assets/colab-badge.svg\" alt=\"Open In Colab\"/></a>"
      ]
    },
    {
      "cell_type": "markdown",
      "metadata": {
        "id": "Oaeuc5m0Rtm-"
      },
      "source": [
        "#Multiple Linear Regression"
      ]
    },
    {
      "cell_type": "markdown",
      "metadata": {
        "id": "aOg62pbsS2XO"
      },
      "source": [
        "###Import all the necessary libraries"
      ]
    },
    {
      "cell_type": "code",
      "metadata": {
        "id": "-N-BEo9PLVdA"
      },
      "source": [
        "import numpy as np\n",
        "import pandas as pd\n",
        "import matplotlib.pyplot as plt\n"
      ],
      "execution_count": 23,
      "outputs": []
    },
    {
      "cell_type": "markdown",
      "metadata": {
        "id": "ZkocXO_4fT5H"
      },
      "source": [
        "## Read the datasets into python"
      ]
    },
    {
      "cell_type": "code",
      "metadata": {
        "id": "Y5b7_cRBfmSG",
        "outputId": "83225d1e-d7d5-483e-a03f-d59b8350b975",
        "colab": {
          "base_uri": "https://localhost:8080/",
          "height": 153
        }
      },
      "source": [
        "df = pd.read_csv('Data.csv')\n",
        "x = df.iloc[:,:-1].values\n",
        "y = df.iloc[:,-1].values\n",
        "print(x[:5,:])\n",
        "print('\\n')\n",
        "print(y[:5])"
      ],
      "execution_count": 24,
      "outputs": [
        {
          "output_type": "stream",
          "text": [
            "[[  14.96   41.76 1024.07   73.17]\n",
            " [  25.18   62.96 1020.04   59.08]\n",
            " [   5.11   39.4  1012.16   92.14]\n",
            " [  20.86   57.32 1010.24   76.64]\n",
            " [  10.82   37.5  1009.23   96.62]]\n",
            "\n",
            "\n",
            "[463.26 444.37 488.56 446.48 473.9 ]\n"
          ],
          "name": "stdout"
        }
      ]
    },
    {
      "cell_type": "markdown",
      "metadata": {
        "id": "hfI4s98IuAJW"
      },
      "source": [
        "## Split the data into train and test split"
      ]
    },
    {
      "cell_type": "code",
      "metadata": {
        "id": "mJ0mk5lAtlSh"
      },
      "source": [
        "from sklearn.model_selection import train_test_split\n",
        "x_train, x_test, y_train, y_test = train_test_split(x,y,test_size=0.2, random_state=0)\n"
      ],
      "execution_count": 25,
      "outputs": []
    },
    {
      "cell_type": "markdown",
      "metadata": {
        "id": "zNAGk7Y-uaMR"
      },
      "source": [
        "## Import the Linear Regression class for fitting the right model"
      ]
    },
    {
      "cell_type": "code",
      "metadata": {
        "id": "GBFScrtfuZO7",
        "outputId": "c39cb8cf-f2f5-41d7-d43c-6b4eb1aa7e66",
        "colab": {
          "base_uri": "https://localhost:8080/",
          "height": 136
        }
      },
      "source": [
        "from sklearn.linear_model import LinearRegression\n",
        "lrmodel = LinearRegression()\n",
        "lrmodel.fit(x_train, y_train)\n",
        "resultlr = lrmodel.predict(x_test)\n",
        "resultlr = resultlr.reshape(len(resultlr),1)\n",
        "y_test_mr = y_test.reshape(len(y_test),1)\n",
        "np.set_printoptions(precision=2)\n",
        "print(np.concatenate((y_test_mr,resultlr),1))"
      ],
      "execution_count": 26,
      "outputs": [
        {
          "output_type": "stream",
          "text": [
            "[[431.23 431.43]\n",
            " [460.01 458.56]\n",
            " [461.14 462.75]\n",
            " ...\n",
            " [473.26 469.52]\n",
            " [438.   442.42]\n",
            " [463.28 461.88]]\n"
          ],
          "name": "stdout"
        }
      ]
    },
    {
      "cell_type": "markdown",
      "metadata": {
        "id": "cJm6sAGBw_hl"
      },
      "source": [
        "##Import polynomial regression to test the same dataset"
      ]
    },
    {
      "cell_type": "code",
      "metadata": {
        "id": "vRNMf3yDvC-9",
        "outputId": "72ce8088-f7fe-45e2-8c3d-418459831167",
        "colab": {
          "base_uri": "https://localhost:8080/",
          "height": 136
        }
      },
      "source": [
        "from sklearn.preprocessing import PolynomialFeatures\n",
        "pnrmodel = PolynomialFeatures(degree = 4)\n",
        "x_poly = pnrmodel.fit_transform(x_train)\n",
        "x_poly2 = pnrmodel.fit_transform(x_test)\n",
        "lrmodel2 = LinearRegression()\n",
        "lrmodel2.fit(x_poly, y_train)\n",
        "pnrresult = lrmodel2.predict(x_poly2)\n",
        "print(np.concatenate((y_test_mr, pnrresult.reshape(len(pnrresult),1)),1))"
      ],
      "execution_count": 27,
      "outputs": [
        {
          "output_type": "stream",
          "text": [
            "[[431.23 433.94]\n",
            " [460.01 457.9 ]\n",
            " [461.14 460.52]\n",
            " ...\n",
            " [473.26 469.53]\n",
            " [438.   438.27]\n",
            " [463.28 461.66]]\n"
          ],
          "name": "stdout"
        }
      ]
    },
    {
      "cell_type": "markdown",
      "metadata": {
        "id": "gpEk0h_v8Dog"
      },
      "source": [
        "##Import SVR from SVM to train the model"
      ]
    },
    {
      "cell_type": "code",
      "metadata": {
        "id": "RnGuknWJvFdN",
        "outputId": "7bd099b0-2471-4ed6-faab-a7c5e887ab80",
        "colab": {
          "base_uri": "https://localhost:8080/",
          "height": 190
        }
      },
      "source": [
        "from sklearn.preprocessing import StandardScaler\n",
        "sc_x = StandardScaler()\n",
        "sc_y = StandardScaler()\n",
        "Y_train = y_train.reshape(len(y_train),1)\n",
        "X_train = sc_x.fit_transform(x_train)\n",
        "Y_train = sc_y.fit_transform(Y_train)\n",
        "from sklearn.svm import SVR\n",
        "svrmodel = SVR(kernel='rbf')\n",
        "svrmodel.fit(X_train, Y_train)\n",
        "svrresult = sc_y.inverse_transform(svrmodel.predict(sc_x.transform(x_test)))\n",
        "svrresult = svrresult.reshape(len(svrresult),1)\n",
        "print(np.concatenate((y_test_mr, svrresult),1))"
      ],
      "execution_count": 28,
      "outputs": [
        {
          "output_type": "stream",
          "text": [
            "/usr/local/lib/python3.6/dist-packages/sklearn/utils/validation.py:760: DataConversionWarning: A column-vector y was passed when a 1d array was expected. Please change the shape of y to (n_samples, ), for example using ravel().\n",
            "  y = column_or_1d(y, warn=True)\n"
          ],
          "name": "stderr"
        },
        {
          "output_type": "stream",
          "text": [
            "[[431.23 434.05]\n",
            " [460.01 457.94]\n",
            " [461.14 461.03]\n",
            " ...\n",
            " [473.26 470.6 ]\n",
            " [438.   439.42]\n",
            " [463.28 460.92]]\n"
          ],
          "name": "stdout"
        }
      ]
    },
    {
      "cell_type": "markdown",
      "metadata": {
        "id": "J7SPfAEq89La"
      },
      "source": [
        "##Import Deceision Tree Regresion"
      ]
    },
    {
      "cell_type": "code",
      "metadata": {
        "id": "DugkHLNb82XV",
        "outputId": "67a89b9e-0b1a-45bf-fbca-46c1dee5d781",
        "colab": {
          "base_uri": "https://localhost:8080/",
          "height": 136
        }
      },
      "source": [
        "from sklearn.tree import DecisionTreeRegressor\n",
        "dtrmodel = DecisionTreeRegressor(random_state=0)\n",
        "dtrmodel.fit(x_train, y_train)\n",
        "dtrresult = dtrmodel.predict(x_test)\n",
        "dtrresult = dtrresult.reshape(len(dtrresult),1)\n",
        "print(np.concatenate((y_test_mr,dtrresult),1))"
      ],
      "execution_count": 29,
      "outputs": [
        {
          "output_type": "stream",
          "text": [
            "[[431.23 431.28]\n",
            " [460.01 462.81]\n",
            " [461.14 460.06]\n",
            " ...\n",
            " [473.26 471.46]\n",
            " [438.   437.76]\n",
            " [463.28 462.55]]\n"
          ],
          "name": "stdout"
        }
      ]
    },
    {
      "cell_type": "markdown",
      "metadata": {
        "id": "KE8fM0UA-jZf"
      },
      "source": [
        "## Import Randomforest Model"
      ]
    },
    {
      "cell_type": "code",
      "metadata": {
        "id": "N8h02PP8-g6T",
        "outputId": "a32615cc-a86f-4406-87f5-2ce74a8145ea",
        "colab": {
          "base_uri": "https://localhost:8080/",
          "height": 136
        }
      },
      "source": [
        "from sklearn.ensemble import RandomForestRegressor\n",
        "rfrmodel = RandomForestRegressor(n_estimators = 10, random_state=0)\n",
        "rfrmodel.fit(x_train,y_train)\n",
        "rfrresult = rfrmodel.predict(x_test)\n",
        "rfrresult = rfrresult.reshape(len(rfrresult),1)\n",
        "print(np.concatenate((y_test_mr, rfrresult),1))"
      ],
      "execution_count": 30,
      "outputs": [
        {
          "output_type": "stream",
          "text": [
            "[[431.23 433.78]\n",
            " [460.01 457.99]\n",
            " [461.14 463.14]\n",
            " ...\n",
            " [473.26 470.16]\n",
            " [438.   439.51]\n",
            " [463.28 460.32]]\n"
          ],
          "name": "stdout"
        }
      ]
    },
    {
      "cell_type": "markdown",
      "metadata": {
        "id": "fKwPBwhh_YUt"
      },
      "source": [
        "## Evaluating all models using R - Squared"
      ]
    },
    {
      "cell_type": "code",
      "metadata": {
        "id": "gNDrCB25_Vcd",
        "outputId": "c5c3091f-3e5c-4d57-ebb3-d8e84ad5634b",
        "colab": {
          "base_uri": "https://localhost:8080/",
          "height": 102
        }
      },
      "source": [
        "from sklearn.metrics import r2_score\n",
        "print('Linear Regression R-Squared         :', r2_score(y_test_mr, resultlr))\n",
        "print('Polynomial Regression R-Squared     :',r2_score(y_test_mr, pnrresult))\n",
        "print('Support Vector Regression R-Squared :',r2_score(y_test_mr, svrresult))\n",
        "print('Decision Tree Regression R-Squared  :',r2_score(y_test_mr, dtrresult))\n",
        "print('Random Forest Regression R-Squared  :',r2_score(y_test_mr, rfrresult))"
      ],
      "execution_count": 36,
      "outputs": [
        {
          "output_type": "stream",
          "text": [
            "Linear Regression R-Squared         : 0.9325315554761302\n",
            "Polynomial Regression R-Squared     : 0.9458192606428147\n",
            "Support Vector Regression R-Squared : 0.9480784049986258\n",
            "Decision Tree Regression R-Squared  : 0.9226091050550043\n",
            "Random Forest Regression R-Squared  : 0.9615980699813017\n"
          ],
          "name": "stdout"
        }
      ]
    },
    {
      "cell_type": "markdown",
      "metadata": {
        "id": "QN9JnDeOE0Oy"
      },
      "source": [
        "## Conclusion\n"
      ]
    },
    {
      "cell_type": "markdown",
      "metadata": {
        "id": "wgsNkM7KE3L_"
      },
      "source": [
        "### The above R-Squared suggest that the best fitting model is Random forest regression model"
      ]
    }
  ]
}