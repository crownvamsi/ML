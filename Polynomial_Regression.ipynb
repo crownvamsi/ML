{
  "nbformat": 4,
  "nbformat_minor": 0,
  "metadata": {
    "colab": {
      "name": "Polynomial Regression.ipynb",
      "provenance": [],
      "authorship_tag": "ABX9TyNudbyukYXi4biy4zmoYodT",
      "include_colab_link": true
    },
    "kernelspec": {
      "name": "python3",
      "display_name": "Python 3"
    }
  },
  "cells": [
    {
      "cell_type": "markdown",
      "metadata": {
        "id": "view-in-github",
        "colab_type": "text"
      },
      "source": [
        "<a href=\"https://colab.research.google.com/github/crownvamsi/ML/blob/main/Polynomial_Regression.ipynb\" target=\"_parent\"><img src=\"https://colab.research.google.com/assets/colab-badge.svg\" alt=\"Open In Colab\"/></a>"
      ]
    },
    {
      "cell_type": "markdown",
      "metadata": {
        "id": "Nxd92L91rA1r"
      },
      "source": [
        "#Polynomial Regression Model"
      ]
    },
    {
      "cell_type": "markdown",
      "metadata": {
        "id": "FhIvSM8crGeI"
      },
      "source": [
        "## Import the necessary libraries"
      ]
    },
    {
      "cell_type": "code",
      "metadata": {
        "id": "85ZANpZlqUIw"
      },
      "source": [
        "import pandas as pd\n",
        "import numpy as np\n",
        "import matplotlib.pyplot as plt\n",
        "%matplotlib inline"
      ],
      "execution_count": 1,
      "outputs": []
    },
    {
      "cell_type": "markdown",
      "metadata": {
        "id": "RBWY35CMrQ14"
      },
      "source": [
        "##Import the datasets"
      ]
    },
    {
      "cell_type": "code",
      "metadata": {
        "id": "7qdblmDMrQaq",
        "outputId": "65221543-077b-49d8-81ff-7b0d37c93a63",
        "colab": {
          "base_uri": "https://localhost:8080/",
          "height": 255
        }
      },
      "source": [
        "df = pd.read_csv('Position_Salaries.csv')\n",
        "x = df.iloc[:,1:-1].values\n",
        "y = df.iloc[:, -1].values\n",
        "print(x)\n",
        "print('\\n')\n",
        "print(y)"
      ],
      "execution_count": 2,
      "outputs": [
        {
          "output_type": "stream",
          "text": [
            "[[ 1]\n",
            " [ 2]\n",
            " [ 3]\n",
            " [ 4]\n",
            " [ 5]\n",
            " [ 6]\n",
            " [ 7]\n",
            " [ 8]\n",
            " [ 9]\n",
            " [10]]\n",
            "\n",
            "\n",
            "[  45000   50000   60000   80000  110000  150000  200000  300000  500000\n",
            " 1000000]\n"
          ],
          "name": "stdout"
        }
      ]
    },
    {
      "cell_type": "markdown",
      "metadata": {
        "id": "RCDof2MF6ims"
      },
      "source": [
        "##Training the Linear Regression Model on the whole dataset\n"
      ]
    },
    {
      "cell_type": "code",
      "metadata": {
        "id": "yqLiIb1QruCe",
        "outputId": "99ea3e44-9306-4674-b61f-9adb6e162fb3",
        "colab": {
          "base_uri": "https://localhost:8080/",
          "height": 34
        }
      },
      "source": [
        "from sklearn.linear_model import LinearRegression\n",
        "lrmodel = LinearRegression()\n",
        "lrmodel.fit(x,y)"
      ],
      "execution_count": 3,
      "outputs": [
        {
          "output_type": "execute_result",
          "data": {
            "text/plain": [
              "LinearRegression(copy_X=True, fit_intercept=True, n_jobs=None, normalize=False)"
            ]
          },
          "metadata": {
            "tags": []
          },
          "execution_count": 3
        }
      ]
    },
    {
      "cell_type": "markdown",
      "metadata": {
        "id": "ZbCrnWGV7UTq"
      },
      "source": [
        "## Training the Polynomial Regression Model on the whole dataset"
      ]
    },
    {
      "cell_type": "code",
      "metadata": {
        "id": "hxI79cLv7TNE",
        "outputId": "c304bc81-828b-4612-8581-9cb4518742f1",
        "colab": {
          "base_uri": "https://localhost:8080/",
          "height": 34
        }
      },
      "source": [
        "from sklearn.preprocessing import PolynomialFeatures\n",
        "pnrmodel = PolynomialFeatures(degree=4)\n",
        "x_poly = pnrmodel.fit_transform(x)\n",
        "lrmodel2 = LinearRegression()\n",
        "lrmodel2.fit(x_poly, y)"
      ],
      "execution_count": 4,
      "outputs": [
        {
          "output_type": "execute_result",
          "data": {
            "text/plain": [
              "LinearRegression(copy_X=True, fit_intercept=True, n_jobs=None, normalize=False)"
            ]
          },
          "metadata": {
            "tags": []
          },
          "execution_count": 4
        }
      ]
    },
    {
      "cell_type": "markdown",
      "metadata": {
        "id": "xOWwen0U8-40"
      },
      "source": [
        "## Visualize the Linear Regression model and see the fitment"
      ]
    },
    {
      "cell_type": "code",
      "metadata": {
        "id": "F8vUcuJg8-C1",
        "outputId": "4f006b68-6b24-49c5-ab82-fc719f46c6bb",
        "colab": {
          "base_uri": "https://localhost:8080/",
          "height": 312
        }
      },
      "source": [
        "plt.scatter(x,y, c='red')\n",
        "plt.plot(x, lrmodel.predict(x), c='blue')\n",
        "plt.title(' True comparison of Salary and level match')\n",
        "plt.xlabel('Level')\n",
        "plt.ylabel('Salary Distribution')\n"
      ],
      "execution_count": 6,
      "outputs": [
        {
          "output_type": "execute_result",
          "data": {
            "text/plain": [
              "Text(0, 0.5, 'Salary Distribution')"
            ]
          },
          "metadata": {
            "tags": []
          },
          "execution_count": 6
        },
        {
          "output_type": "display_data",
          "data": {
            "image/png": "[encoded data removed]",
            "text/plain": [
              "<Figure size 432x288 with 1 Axes>"
            ]
          },
          "metadata": {
            "tags": [],
            "needs_background": "light"
          }
        }
      ]
    },
    {
      "cell_type": "markdown",
      "metadata": {
        "id": "1hDJzzGB96kt"
      },
      "source": [
        "#Visualize the polynomial regression model and see the fitment"
      ]
    },
    {
      "cell_type": "code",
      "metadata": {
        "id": "BqhpNi3D9nH3",
        "outputId": "5ffeadc1-0d0c-47fd-99f2-06c4f15aa860",
        "colab": {
          "base_uri": "https://localhost:8080/",
          "height": 312
        }
      },
      "source": [
        "plt.scatter(x,y,c='red')\n",
        "plt.plot(x, lrmodel2.predict(pnrmodel.fit_transform(x)), c='blue')\n",
        "plt.title(' True comparison of Salary and level match - Poly fit')\n",
        "plt.xlabel('Level')\n",
        "plt.ylabel('Salary Distribution')"
      ],
      "execution_count": 8,
      "outputs": [
        {
          "output_type": "execute_result",
          "data": {
            "text/plain": [
              "Text(0, 0.5, 'Salary Distribution')"
            ]
          },
          "metadata": {
            "tags": []
          },
          "execution_count": 8
        },
        {
          "output_type": "display_data",
          "data": {
            "image/png": "[encoded data removed]",
            "text/plain": [
              "<Figure size 432x288 with 1 Axes>"
            ]
          },
          "metadata": {
            "tags": [],
            "needs_background": "light"
          }
        }
      ]
    },
    {
      "cell_type": "markdown",
      "metadata": {
        "id": "RtTy7cuJ-6vA"
      },
      "source": [
        "# Add more grids in x axis to smoothen the curve"
      ]
    },
    {
      "cell_type": "code",
      "metadata": {
        "id": "v2z5n6m2_HTN",
        "outputId": "889df374-40a5-4828-d2f8-efde8596c60c",
        "colab": {
          "base_uri": "https://localhost:8080/",
          "height": 312
        }
      },
      "source": [
        "x_grid = np.arange(min(x), max(x), 0.1)\n",
        "x_grid = x_grid.reshape(len(x_grid),1)\n",
        "plt.scatter(x,y,c='red')\n",
        "plt.plot(x_grid, lrmodel2.predict(pnrmodel.fit_transform(x_grid)), c='blue')\n",
        "plt.title(' True comparison of Salary and level match - Poly fit')\n",
        "plt.xlabel('Level')\n",
        "plt.ylabel('Salary Distribution')"
      ],
      "execution_count": 9,
      "outputs": [
        {
          "output_type": "execute_result",
          "data": {
            "text/plain": [
              "Text(0, 0.5, 'Salary Distribution')"
            ]
          },
          "metadata": {
            "tags": []
          },
          "execution_count": 9
        },
        {
          "output_type": "display_data",
          "data": {
            "image/png": "[encoded data removed]",
            "text/plain": [
              "<Figure size 432x288 with 1 Axes>"
            ]
          },
          "metadata": {
            "tags": [],
            "needs_background": "light"
          }
        }
      ]
    },
    {
      "cell_type": "markdown",
      "metadata": {
        "id": "l9Iu6dBJ_55P"
      },
      "source": [
        "# predict a new value with linear regression model"
      ]
    },
    {
      "cell_type": "code",
      "metadata": {
        "id": "SuLxdO8t_0Ss",
        "outputId": "77f90147-8250-49ee-87d0-29d0e4f26877",
        "colab": {
          "base_uri": "https://localhost:8080/",
          "height": 34
        }
      },
      "source": [
        "lrmodel.predict([[6.5]])"
      ],
      "execution_count": 10,
      "outputs": [
        {
          "output_type": "execute_result",
          "data": {
            "text/plain": [
              "array([330378.78787879])"
            ]
          },
          "metadata": {
            "tags": []
          },
          "execution_count": 10
        }
      ]
    },
    {
      "cell_type": "markdown",
      "metadata": {
        "id": "4zI3SqB-AIx6"
      },
      "source": [
        "## Predict a new value with Polynomial Regression model"
      ]
    },
    {
      "cell_type": "code",
      "metadata": {
        "id": "UXK2A6fGAGR6",
        "outputId": "315b0878-25be-4d7a-a571-2f058b3a5a11",
        "colab": {
          "base_uri": "https://localhost:8080/",
          "height": 34
        }
      },
      "source": [
        "lrmodel2.predict(pnrmodel.fit_transform([[6.5]]))"
      ],
      "execution_count": 11,
      "outputs": [
        {
          "output_type": "execute_result",
          "data": {
            "text/plain": [
              "array([158862.45265155])"
            ]
          },
          "metadata": {
            "tags": []
          },
          "execution_count": 11
        }
      ]
    },
    {
      "cell_type": "code",
      "metadata": {
        "id": "kVQsnnA7AaMY"
      },
      "source": [
        ""
      ],
      "execution_count": null,
      "outputs": []
    }
  ]
}